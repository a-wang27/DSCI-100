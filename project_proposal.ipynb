{
 "cells": [
  {
   "cell_type": "markdown",
   "id": "2d985595-70ab-4533-9b29-575646ce31ab",
   "metadata": {},
   "source": [
    "# DSCI 100 Group Project Proposal: \n",
    "\n",
    "### Introduction"
   ]
  },
  {
   "cell_type": "markdown",
   "id": "3efe3d53-f920-40b1-8482-0e6d04ac29fd",
   "metadata": {},
   "source": [
    "#### Reading the Data"
   ]
  },
  {
   "cell_type": "code",
   "execution_count": 35,
   "id": "e092feaf-0750-4887-b8ed-799656b06b8d",
   "metadata": {},
   "outputs": [
    {
     "name": "stderr",
     "output_type": "stream",
     "text": [
      "Updating HTML index of packages in '.Library'\n",
      "\n",
      "Making 'packages.html' ...\n",
      " done\n",
      "\n"
     ]
    }
   ],
   "source": [
    "install.packages(\"readxl\")\n",
    "library(repr)\n",
    "library(tidyverse)\n",
    "library(tidymodels)\n",
    "library(ggplot2)\n",
    "library(cowplot)\n",
    "library(readxl)"
   ]
  },
  {
   "cell_type": "code",
   "execution_count": 78,
   "id": "0ada75b9-7b51-492b-891e-f8e4850da9fb",
   "metadata": {},
   "outputs": [
    {
     "name": "stderr",
     "output_type": "stream",
     "text": [
      "\u001b[1m\u001b[22mNew names:\n",
      "\u001b[36m•\u001b[39m `` -> `...1`\n",
      "\u001b[1mRows: \u001b[22m\u001b[34m500\u001b[39m \u001b[1mColumns: \u001b[22m\u001b[34m38\u001b[39m\n",
      "\u001b[36m──\u001b[39m \u001b[1mColumn specification\u001b[22m \u001b[36m────────────────────────────────────────────────────────\u001b[39m\n",
      "\u001b[1mDelimiter:\u001b[22m \",\"\n",
      "\u001b[31mchr\u001b[39m (25): Age, Country, Plays, Wikipedia, Current Rank, Best Rank, Name, Bac...\n",
      "\u001b[32mdbl\u001b[39m (13): ...1, Turned Pro, Seasons, Titles, Best Season, Retired, Masters, ...\n",
      "\n",
      "\u001b[36mℹ\u001b[39m Use `spec()` to retrieve the full column specification for this data.\n",
      "\u001b[36mℹ\u001b[39m Specify the column types or set `show_col_types = FALSE` to quiet this message.\n"
     ]
    }
   ],
   "source": [
    "url <- \"https://drive.google.com/uc?export=download&id=1_MECmUXZuuILYeEOfonSGqodW6qVdhsS\"\n",
    "\n",
    "tennis_data <- read_delim(url) |>\n",
    "head(n = 10)\n",
    "colnames(tennis_data) <- make.names(colnames(tennis_data))"
   ]
  },
  {
   "cell_type": "code",
   "execution_count": 82,
   "id": "d70d374f-ebfb-42f7-8a57-94ea2b2f6017",
   "metadata": {},
   "outputs": [
    {
     "data": {
      "text/html": [
       "<table class=\"dataframe\">\n",
       "<caption>A tibble: 9 × 9</caption>\n",
       "<thead>\n",
       "\t<tr><th scope=col>Age</th><th scope=col>Country</th><th scope=col>Plays</th><th scope=col>Wikipedia</th><th scope=col>Current.Rank</th><th scope=col>Best.Rank</th><th scope=col>Name</th><th scope=col>Backhand</th><th scope=col>Prize.Money</th></tr>\n",
       "\t<tr><th scope=col>&lt;chr&gt;</th><th scope=col>&lt;chr&gt;</th><th scope=col>&lt;chr&gt;</th><th scope=col>&lt;chr&gt;</th><th scope=col>&lt;chr&gt;</th><th scope=col>&lt;chr&gt;</th><th scope=col>&lt;chr&gt;</th><th scope=col>&lt;chr&gt;</th><th scope=col>&lt;chr&gt;</th></tr>\n",
       "</thead>\n",
       "<tbody>\n",
       "\t<tr><td>18 (22-12-2001)</td><td>United Kingdom           </td><td>Left-handed </td><td>Wikipedia</td><td>326 (119)</td><td>316 (14-10-2019)</td><td>Jack Draper    </td><td>Two-handed</td><td>$59,040     </td></tr>\n",
       "\t<tr><td>32 (03-11-1987)</td><td>Slovakia                 </td><td>Right-handed</td><td>Wikipedia</td><td>178 (280)</td><td>44 (14-01-2013) </td><td>Lukas Lacko    </td><td>Two-handed</td><td>US$3,261,567</td></tr>\n",
       "\t<tr><td>21 (29-05-1998)</td><td>Korea, Republic of       </td><td>Right-handed</td><td>Wikipedia</td><td>236 (199)</td><td>130 (10-04-2017)</td><td>Duck Hee Lee   </td><td>Two-handed</td><td>$374,093    </td></tr>\n",
       "\t<tr><td>27 (21-10-1992)</td><td>Australia                </td><td>Right-handed</td><td>Wikipedia</td><td>183 (273)</td><td>17 (11-01-2016) </td><td>Bernard Tomic  </td><td>Two-handed</td><td>US$6,091,971</td></tr>\n",
       "\t<tr><td>22 (11-02-1997)</td><td>Poland                   </td><td>Right-handed</td><td>Wikipedia</td><td>31 (1398)</td><td>31 (20-01-2020) </td><td>Hubert Hurkacz </td><td>Two-handed</td><td>$1,517,157  </td></tr>\n",
       "\t<tr><td>28 (18-11-1991)</td><td>United States            </td><td>Right-handed</td><td>Wikipedia</td><td>307 (131)</td><td>213 (31-10-2016)</td><td>Sekou Bangoura </td><td>Two-handed</td><td>$278,709    </td></tr>\n",
       "\t<tr><td>21 (12-05-1998)</td><td>Taiwan, Province of China</td><td>Right-handed</td><td>Wikipedia</td><td>232 (205)</td><td>229 (04-11-2019)</td><td>Tung Lin Wu    </td><td>Two-handed</td><td>$59,123     </td></tr>\n",
       "\t<tr><td>25 (29-07-1994)</td><td>Uzbekistan               </td><td>Right-handed</td><td>Wikipedia</td><td>417 (81) </td><td>253 (17-07-2017)</td><td>Sanjar Fayziev </td><td>Two-handed</td><td>$122,734    </td></tr>\n",
       "\t<tr><td>20 (02-04-1999)</td><td>Finland                  </td><td>Right-handed</td><td>Wikipedia</td><td>104 (534)</td><td>104 (13-01-2020)</td><td>Emil Ruusuvuori</td><td>Two-handed</td><td>US$74,927   </td></tr>\n",
       "</tbody>\n",
       "</table>\n"
      ],
      "text/latex": [
       "A tibble: 9 × 9\n",
       "\\begin{tabular}{lllllllll}\n",
       " Age & Country & Plays & Wikipedia & Current.Rank & Best.Rank & Name & Backhand & Prize.Money\\\\\n",
       " <chr> & <chr> & <chr> & <chr> & <chr> & <chr> & <chr> & <chr> & <chr>\\\\\n",
       "\\hline\n",
       "\t 18 (22-12-2001) & United Kingdom            & Left-handed  & Wikipedia & 326 (119) & 316 (14-10-2019) & Jack Draper     & Two-handed & \\$59,040     \\\\\n",
       "\t 32 (03-11-1987) & Slovakia                  & Right-handed & Wikipedia & 178 (280) & 44 (14-01-2013)  & Lukas Lacko     & Two-handed & US\\$3,261,567\\\\\n",
       "\t 21 (29-05-1998) & Korea, Republic of        & Right-handed & Wikipedia & 236 (199) & 130 (10-04-2017) & Duck Hee Lee    & Two-handed & \\$374,093    \\\\\n",
       "\t 27 (21-10-1992) & Australia                 & Right-handed & Wikipedia & 183 (273) & 17 (11-01-2016)  & Bernard Tomic   & Two-handed & US\\$6,091,971\\\\\n",
       "\t 22 (11-02-1997) & Poland                    & Right-handed & Wikipedia & 31 (1398) & 31 (20-01-2020)  & Hubert Hurkacz  & Two-handed & \\$1,517,157  \\\\\n",
       "\t 28 (18-11-1991) & United States             & Right-handed & Wikipedia & 307 (131) & 213 (31-10-2016) & Sekou Bangoura  & Two-handed & \\$278,709    \\\\\n",
       "\t 21 (12-05-1998) & Taiwan, Province of China & Right-handed & Wikipedia & 232 (205) & 229 (04-11-2019) & Tung Lin Wu     & Two-handed & \\$59,123     \\\\\n",
       "\t 25 (29-07-1994) & Uzbekistan                & Right-handed & Wikipedia & 417 (81)  & 253 (17-07-2017) & Sanjar Fayziev  & Two-handed & \\$122,734    \\\\\n",
       "\t 20 (02-04-1999) & Finland                   & Right-handed & Wikipedia & 104 (534) & 104 (13-01-2020) & Emil Ruusuvuori & Two-handed & US\\$74,927   \\\\\n",
       "\\end{tabular}\n"
      ],
      "text/markdown": [
       "\n",
       "A tibble: 9 × 9\n",
       "\n",
       "| Age &lt;chr&gt; | Country &lt;chr&gt; | Plays &lt;chr&gt; | Wikipedia &lt;chr&gt; | Current.Rank &lt;chr&gt; | Best.Rank &lt;chr&gt; | Name &lt;chr&gt; | Backhand &lt;chr&gt; | Prize.Money &lt;chr&gt; |\n",
       "|---|---|---|---|---|---|---|---|---|\n",
       "| 18 (22-12-2001) | United Kingdom            | Left-handed  | Wikipedia | 326 (119) | 316 (14-10-2019) | Jack Draper     | Two-handed | $59,040      |\n",
       "| 32 (03-11-1987) | Slovakia                  | Right-handed | Wikipedia | 178 (280) | 44 (14-01-2013)  | Lukas Lacko     | Two-handed | US$3,261,567 |\n",
       "| 21 (29-05-1998) | Korea, Republic of        | Right-handed | Wikipedia | 236 (199) | 130 (10-04-2017) | Duck Hee Lee    | Two-handed | $374,093     |\n",
       "| 27 (21-10-1992) | Australia                 | Right-handed | Wikipedia | 183 (273) | 17 (11-01-2016)  | Bernard Tomic   | Two-handed | US$6,091,971 |\n",
       "| 22 (11-02-1997) | Poland                    | Right-handed | Wikipedia | 31 (1398) | 31 (20-01-2020)  | Hubert Hurkacz  | Two-handed | $1,517,157   |\n",
       "| 28 (18-11-1991) | United States             | Right-handed | Wikipedia | 307 (131) | 213 (31-10-2016) | Sekou Bangoura  | Two-handed | $278,709     |\n",
       "| 21 (12-05-1998) | Taiwan, Province of China | Right-handed | Wikipedia | 232 (205) | 229 (04-11-2019) | Tung Lin Wu     | Two-handed | $59,123      |\n",
       "| 25 (29-07-1994) | Uzbekistan                | Right-handed | Wikipedia | 417 (81)  | 253 (17-07-2017) | Sanjar Fayziev  | Two-handed | $122,734     |\n",
       "| 20 (02-04-1999) | Finland                   | Right-handed | Wikipedia | 104 (534) | 104 (13-01-2020) | Emil Ruusuvuori | Two-handed | US$74,927    |\n",
       "\n"
      ],
      "text/plain": [
       "  Age             Country                   Plays        Wikipedia Current.Rank\n",
       "1 18 (22-12-2001) United Kingdom            Left-handed  Wikipedia 326 (119)   \n",
       "2 32 (03-11-1987) Slovakia                  Right-handed Wikipedia 178 (280)   \n",
       "3 21 (29-05-1998) Korea, Republic of        Right-handed Wikipedia 236 (199)   \n",
       "4 27 (21-10-1992) Australia                 Right-handed Wikipedia 183 (273)   \n",
       "5 22 (11-02-1997) Poland                    Right-handed Wikipedia 31 (1398)   \n",
       "6 28 (18-11-1991) United States             Right-handed Wikipedia 307 (131)   \n",
       "7 21 (12-05-1998) Taiwan, Province of China Right-handed Wikipedia 232 (205)   \n",
       "8 25 (29-07-1994) Uzbekistan                Right-handed Wikipedia 417 (81)    \n",
       "9 20 (02-04-1999) Finland                   Right-handed Wikipedia 104 (534)   \n",
       "  Best.Rank        Name            Backhand   Prize.Money \n",
       "1 316 (14-10-2019) Jack Draper     Two-handed $59,040     \n",
       "2 44 (14-01-2013)  Lukas Lacko     Two-handed US$3,261,567\n",
       "3 130 (10-04-2017) Duck Hee Lee    Two-handed $374,093    \n",
       "4 17 (11-01-2016)  Bernard Tomic   Two-handed US$6,091,971\n",
       "5 31 (20-01-2020)  Hubert Hurkacz  Two-handed $1,517,157  \n",
       "6 213 (31-10-2016) Sekou Bangoura  Two-handed $278,709    \n",
       "7 229 (04-11-2019) Tung Lin Wu     Two-handed $59,123     \n",
       "8 253 (17-07-2017) Sanjar Fayziev  Two-handed $122,734    \n",
       "9 104 (13-01-2020) Emil Ruusuvuori Two-handed US$74,927   "
      ]
     },
     "metadata": {},
     "output_type": "display_data"
    }
   ],
   "source": [
    "tennis_tidy <- select(tennis_data, Age:Prize.Money) |>\n",
    "    filter(!is.na(Prize.Money))\n",
    "tennis_tidy"
   ]
  },
  {
   "cell_type": "code",
   "execution_count": null,
   "id": "4a920401-ed4e-4d3a-a88a-c1404bd39f37",
   "metadata": {},
   "outputs": [],
   "source": []
  }
 ],
 "metadata": {
  "kernelspec": {
   "display_name": "R",
   "language": "R",
   "name": "ir"
  },
  "language_info": {
   "codemirror_mode": "r",
   "file_extension": ".r",
   "mimetype": "text/x-r-source",
   "name": "R",
   "pygments_lexer": "r",
   "version": "4.1.3"
  }
 },
 "nbformat": 4,
 "nbformat_minor": 5
}

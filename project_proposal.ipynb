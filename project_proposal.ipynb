{
 "cells": [
  {
   "cell_type": "markdown",
   "id": "339215cb-5440-4323-bd00-a511cf88470b",
   "metadata": {},
   "source": [
    "# DSCI 100 Group Project Proposal: Bank Marketing Classification\n",
    "\n",
    "### Introduction"
   ]
  },
  {
   "cell_type": "markdown",
   "id": "0810a6e2-0ff0-4f9a-8328-ce4345d86c64",
   "metadata": {},
   "source": [
    "#### Reading the Data"
   ]
  },
  {
   "cell_type": "code",
   "execution_count": 1,
   "id": "d182c36c-9ed7-496b-9909-6eed6965daa3",
   "metadata": {},
   "outputs": [
    {
     "name": "stderr",
     "output_type": "stream",
     "text": [
      "── \u001b[1mAttaching packages\u001b[22m ─────────────────────────────────────── tidyverse 1.3.1 ──\n",
      "\n",
      "\u001b[32m✔\u001b[39m \u001b[34mggplot2\u001b[39m 3.3.6     \u001b[32m✔\u001b[39m \u001b[34mpurrr  \u001b[39m 0.3.4\n",
      "\u001b[32m✔\u001b[39m \u001b[34mtibble \u001b[39m 3.1.7     \u001b[32m✔\u001b[39m \u001b[34mdplyr  \u001b[39m 1.0.9\n",
      "\u001b[32m✔\u001b[39m \u001b[34mtidyr  \u001b[39m 1.2.0     \u001b[32m✔\u001b[39m \u001b[34mstringr\u001b[39m 1.4.0\n",
      "\u001b[32m✔\u001b[39m \u001b[34mreadr  \u001b[39m 2.1.2     \u001b[32m✔\u001b[39m \u001b[34mforcats\u001b[39m 0.5.1\n",
      "\n",
      "── \u001b[1mConflicts\u001b[22m ────────────────────────────────────────── tidyverse_conflicts() ──\n",
      "\u001b[31m✖\u001b[39m \u001b[34mdplyr\u001b[39m::\u001b[32mfilter()\u001b[39m masks \u001b[34mstats\u001b[39m::filter()\n",
      "\u001b[31m✖\u001b[39m \u001b[34mdplyr\u001b[39m::\u001b[32mlag()\u001b[39m    masks \u001b[34mstats\u001b[39m::lag()\n",
      "\n"
     ]
    }
   ],
   "source": [
    "library(tidyverse)"
   ]
  },
  {
   "cell_type": "code",
   "execution_count": 20,
   "id": "22365a56-148b-4a0c-923a-a920672232b8",
   "metadata": {},
   "outputs": [
    {
     "name": "stderr",
     "output_type": "stream",
     "text": [
      "\u001b[1mRows: \u001b[22m\u001b[34m45211\u001b[39m \u001b[1mColumns: \u001b[22m\u001b[34m17\u001b[39m\n",
      "\u001b[36m──\u001b[39m \u001b[1mColumn specification\u001b[22m \u001b[36m────────────────────────────────────────────────────────\u001b[39m\n",
      "\u001b[1mDelimiter:\u001b[22m \";\"\n",
      "\u001b[31mchr\u001b[39m (10): job, marital, education, default, housing, loan, contact, month, p...\n",
      "\u001b[32mdbl\u001b[39m  (7): age, balance, day, duration, campaign, pdays, previous\n",
      "\n",
      "\u001b[36mℹ\u001b[39m Use `spec()` to retrieve the full column specification for this data.\n",
      "\u001b[36mℹ\u001b[39m Specify the column types or set `show_col_types = FALSE` to quiet this message.\n"
     ]
    },
    {
     "data": {
      "text/html": [
       "<table class=\"dataframe\">\n",
       "<caption>A tibble: 6 × 17</caption>\n",
       "<thead>\n",
       "\t<tr><th scope=col>age</th><th scope=col>job</th><th scope=col>marital</th><th scope=col>education</th><th scope=col>default</th><th scope=col>balance</th><th scope=col>housing</th><th scope=col>loan</th><th scope=col>contact</th><th scope=col>day</th><th scope=col>month</th><th scope=col>duration</th><th scope=col>campaign</th><th scope=col>pdays</th><th scope=col>previous</th><th scope=col>poutcome</th><th scope=col>y</th></tr>\n",
       "\t<tr><th scope=col>&lt;dbl&gt;</th><th scope=col>&lt;chr&gt;</th><th scope=col>&lt;chr&gt;</th><th scope=col>&lt;chr&gt;</th><th scope=col>&lt;chr&gt;</th><th scope=col>&lt;dbl&gt;</th><th scope=col>&lt;chr&gt;</th><th scope=col>&lt;chr&gt;</th><th scope=col>&lt;chr&gt;</th><th scope=col>&lt;dbl&gt;</th><th scope=col>&lt;chr&gt;</th><th scope=col>&lt;dbl&gt;</th><th scope=col>&lt;dbl&gt;</th><th scope=col>&lt;dbl&gt;</th><th scope=col>&lt;dbl&gt;</th><th scope=col>&lt;chr&gt;</th><th scope=col>&lt;chr&gt;</th></tr>\n",
       "</thead>\n",
       "<tbody>\n",
       "\t<tr><td>58</td><td>management  </td><td>married</td><td>tertiary </td><td>no</td><td>2143</td><td>yes</td><td>no </td><td>unknown</td><td>5</td><td>may</td><td>261</td><td>1</td><td>-1</td><td>0</td><td>unknown</td><td>no</td></tr>\n",
       "\t<tr><td>44</td><td>technician  </td><td>single </td><td>secondary</td><td>no</td><td>  29</td><td>yes</td><td>no </td><td>unknown</td><td>5</td><td>may</td><td>151</td><td>1</td><td>-1</td><td>0</td><td>unknown</td><td>no</td></tr>\n",
       "\t<tr><td>33</td><td>entrepreneur</td><td>married</td><td>secondary</td><td>no</td><td>   2</td><td>yes</td><td>yes</td><td>unknown</td><td>5</td><td>may</td><td> 76</td><td>1</td><td>-1</td><td>0</td><td>unknown</td><td>no</td></tr>\n",
       "\t<tr><td>47</td><td>blue-collar </td><td>married</td><td>unknown  </td><td>no</td><td>1506</td><td>yes</td><td>no </td><td>unknown</td><td>5</td><td>may</td><td> 92</td><td>1</td><td>-1</td><td>0</td><td>unknown</td><td>no</td></tr>\n",
       "\t<tr><td>33</td><td>unknown     </td><td>single </td><td>unknown  </td><td>no</td><td>   1</td><td>no </td><td>no </td><td>unknown</td><td>5</td><td>may</td><td>198</td><td>1</td><td>-1</td><td>0</td><td>unknown</td><td>no</td></tr>\n",
       "\t<tr><td>35</td><td>management  </td><td>married</td><td>tertiary </td><td>no</td><td> 231</td><td>yes</td><td>no </td><td>unknown</td><td>5</td><td>may</td><td>139</td><td>1</td><td>-1</td><td>0</td><td>unknown</td><td>no</td></tr>\n",
       "</tbody>\n",
       "</table>\n"
      ],
      "text/latex": [
       "A tibble: 6 × 17\n",
       "\\begin{tabular}{lllllllllllllllll}\n",
       " age & job & marital & education & default & balance & housing & loan & contact & day & month & duration & campaign & pdays & previous & poutcome & y\\\\\n",
       " <dbl> & <chr> & <chr> & <chr> & <chr> & <dbl> & <chr> & <chr> & <chr> & <dbl> & <chr> & <dbl> & <dbl> & <dbl> & <dbl> & <chr> & <chr>\\\\\n",
       "\\hline\n",
       "\t 58 & management   & married & tertiary  & no & 2143 & yes & no  & unknown & 5 & may & 261 & 1 & -1 & 0 & unknown & no\\\\\n",
       "\t 44 & technician   & single  & secondary & no &   29 & yes & no  & unknown & 5 & may & 151 & 1 & -1 & 0 & unknown & no\\\\\n",
       "\t 33 & entrepreneur & married & secondary & no &    2 & yes & yes & unknown & 5 & may &  76 & 1 & -1 & 0 & unknown & no\\\\\n",
       "\t 47 & blue-collar  & married & unknown   & no & 1506 & yes & no  & unknown & 5 & may &  92 & 1 & -1 & 0 & unknown & no\\\\\n",
       "\t 33 & unknown      & single  & unknown   & no &    1 & no  & no  & unknown & 5 & may & 198 & 1 & -1 & 0 & unknown & no\\\\\n",
       "\t 35 & management   & married & tertiary  & no &  231 & yes & no  & unknown & 5 & may & 139 & 1 & -1 & 0 & unknown & no\\\\\n",
       "\\end{tabular}\n"
      ],
      "text/markdown": [
       "\n",
       "A tibble: 6 × 17\n",
       "\n",
       "| age &lt;dbl&gt; | job &lt;chr&gt; | marital &lt;chr&gt; | education &lt;chr&gt; | default &lt;chr&gt; | balance &lt;dbl&gt; | housing &lt;chr&gt; | loan &lt;chr&gt; | contact &lt;chr&gt; | day &lt;dbl&gt; | month &lt;chr&gt; | duration &lt;dbl&gt; | campaign &lt;dbl&gt; | pdays &lt;dbl&gt; | previous &lt;dbl&gt; | poutcome &lt;chr&gt; | y &lt;chr&gt; |\n",
       "|---|---|---|---|---|---|---|---|---|---|---|---|---|---|---|---|---|\n",
       "| 58 | management   | married | tertiary  | no | 2143 | yes | no  | unknown | 5 | may | 261 | 1 | -1 | 0 | unknown | no |\n",
       "| 44 | technician   | single  | secondary | no |   29 | yes | no  | unknown | 5 | may | 151 | 1 | -1 | 0 | unknown | no |\n",
       "| 33 | entrepreneur | married | secondary | no |    2 | yes | yes | unknown | 5 | may |  76 | 1 | -1 | 0 | unknown | no |\n",
       "| 47 | blue-collar  | married | unknown   | no | 1506 | yes | no  | unknown | 5 | may |  92 | 1 | -1 | 0 | unknown | no |\n",
       "| 33 | unknown      | single  | unknown   | no |    1 | no  | no  | unknown | 5 | may | 198 | 1 | -1 | 0 | unknown | no |\n",
       "| 35 | management   | married | tertiary  | no |  231 | yes | no  | unknown | 5 | may | 139 | 1 | -1 | 0 | unknown | no |\n",
       "\n"
      ],
      "text/plain": [
       "  age job          marital education default balance housing loan contact day\n",
       "1 58  management   married tertiary  no      2143    yes     no   unknown 5  \n",
       "2 44  technician   single  secondary no        29    yes     no   unknown 5  \n",
       "3 33  entrepreneur married secondary no         2    yes     yes  unknown 5  \n",
       "4 47  blue-collar  married unknown   no      1506    yes     no   unknown 5  \n",
       "5 33  unknown      single  unknown   no         1    no      no   unknown 5  \n",
       "6 35  management   married tertiary  no       231    yes     no   unknown 5  \n",
       "  month duration campaign pdays previous poutcome y \n",
       "1 may   261      1        -1    0        unknown  no\n",
       "2 may   151      1        -1    0        unknown  no\n",
       "3 may    76      1        -1    0        unknown  no\n",
       "4 may    92      1        -1    0        unknown  no\n",
       "5 may   198      1        -1    0        unknown  no\n",
       "6 may   139      1        -1    0        unknown  no"
      ]
     },
     "metadata": {},
     "output_type": "display_data"
    }
   ],
   "source": [
    "url <- \"https://archive.ics.uci.edu/ml/machine-learning-databases/00222/bank.zip\"\n",
    "\n",
    "download.file(url, \"bank.zip\")\n",
    "unzip(\"bank.zip\")\n",
    "\n",
    "bank_data <- read_delim(\"bank-full.csv\", delim = \";\")\n",
    "head(bank_data)"
   ]
  },
  {
   "cell_type": "markdown",
   "id": "6c21f1c0-49f7-48b2-b1ea-f633ea0d9429",
   "metadata": {},
   "source": [
    "*Table 1: Bank Marketing Dataset from the Web*"
   ]
  },
  {
   "cell_type": "code",
   "execution_count": null,
   "id": "acf617dd-7ff0-46b8-9001-c17b12f841e5",
   "metadata": {},
   "outputs": [],
   "source": []
  }
 ],
 "metadata": {
  "kernelspec": {
   "display_name": "R",
   "language": "R",
   "name": "ir"
  },
  "language_info": {
   "codemirror_mode": "r",
   "file_extension": ".r",
   "mimetype": "text/x-r-source",
   "name": "R",
   "pygments_lexer": "r",
   "version": "4.1.3"
  }
 },
 "nbformat": 4,
 "nbformat_minor": 5
}

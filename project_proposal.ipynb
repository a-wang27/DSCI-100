{
 "cells": [
  {
   "cell_type": "markdown",
   "id": "339215cb-5440-4323-bd00-a511cf88470b",
   "metadata": {},
   "source": [
    "# DSCI 100 Group Project Proposal: Bank Marketing Classification\n",
    "\n",
    "### Introduction"
   ]
  },
  {
   "cell_type": "markdown",
   "id": "0810a6e2-0ff0-4f9a-8328-ce4345d86c64",
   "metadata": {},
   "source": [
    "### Preliminary Exploratory Data Analysis\n",
    "#### Reading the Data"
   ]
  },
  {
   "cell_type": "code",
   "execution_count": 14,
   "id": "d182c36c-9ed7-496b-9909-6eed6965daa3",
   "metadata": {},
   "outputs": [],
   "source": [
    "library(repr)\n",
    "library(tidyverse)\n",
    "library(tidymodels)\n",
    "options(repr.matrix.max.rows = 6)"
   ]
  },
  {
   "cell_type": "code",
   "execution_count": 16,
   "id": "22365a56-148b-4a0c-923a-a920672232b8",
   "metadata": {},
   "outputs": [
    {
     "name": "stderr",
     "output_type": "stream",
     "text": [
      "\u001b[1mRows: \u001b[22m\u001b[34m45211\u001b[39m \u001b[1mColumns: \u001b[22m\u001b[34m17\u001b[39m\n",
      "\u001b[36m──\u001b[39m \u001b[1mColumn specification\u001b[22m \u001b[36m────────────────────────────────────────────────────────\u001b[39m\n",
      "\u001b[1mDelimiter:\u001b[22m \";\"\n",
      "\u001b[31mchr\u001b[39m (10): job, marital, education, default, housing, loan, contact, month, p...\n",
      "\u001b[32mdbl\u001b[39m  (7): age, balance, day, duration, campaign, pdays, previous\n",
      "\n",
      "\u001b[36mℹ\u001b[39m Use `spec()` to retrieve the full column specification for this data.\n",
      "\u001b[36mℹ\u001b[39m Specify the column types or set `show_col_types = FALSE` to quiet this message.\n"
     ]
    },
    {
     "data": {
      "text/html": [
       "<table class=\"dataframe\">\n",
       "<caption>A spec_tbl_df: 45211 × 17</caption>\n",
       "<thead>\n",
       "\t<tr><th scope=col>age</th><th scope=col>job</th><th scope=col>marital</th><th scope=col>education</th><th scope=col>default</th><th scope=col>balance</th><th scope=col>housing</th><th scope=col>loan</th><th scope=col>contact</th><th scope=col>day</th><th scope=col>month</th><th scope=col>duration</th><th scope=col>campaign</th><th scope=col>pdays</th><th scope=col>previous</th><th scope=col>poutcome</th><th scope=col>y</th></tr>\n",
       "\t<tr><th scope=col>&lt;dbl&gt;</th><th scope=col>&lt;chr&gt;</th><th scope=col>&lt;chr&gt;</th><th scope=col>&lt;chr&gt;</th><th scope=col>&lt;chr&gt;</th><th scope=col>&lt;dbl&gt;</th><th scope=col>&lt;chr&gt;</th><th scope=col>&lt;chr&gt;</th><th scope=col>&lt;chr&gt;</th><th scope=col>&lt;dbl&gt;</th><th scope=col>&lt;chr&gt;</th><th scope=col>&lt;dbl&gt;</th><th scope=col>&lt;dbl&gt;</th><th scope=col>&lt;dbl&gt;</th><th scope=col>&lt;dbl&gt;</th><th scope=col>&lt;chr&gt;</th><th scope=col>&lt;chr&gt;</th></tr>\n",
       "</thead>\n",
       "<tbody>\n",
       "\t<tr><td>58</td><td>management  </td><td>married</td><td>tertiary </td><td>no</td><td>2143</td><td>yes</td><td>no </td><td>unknown</td><td>5</td><td>may</td><td>261</td><td>1</td><td>-1</td><td>0</td><td>unknown</td><td>no</td></tr>\n",
       "\t<tr><td>44</td><td>technician  </td><td>single </td><td>secondary</td><td>no</td><td>  29</td><td>yes</td><td>no </td><td>unknown</td><td>5</td><td>may</td><td>151</td><td>1</td><td>-1</td><td>0</td><td>unknown</td><td>no</td></tr>\n",
       "\t<tr><td>33</td><td>entrepreneur</td><td>married</td><td>secondary</td><td>no</td><td>   2</td><td>yes</td><td>yes</td><td>unknown</td><td>5</td><td>may</td><td> 76</td><td>1</td><td>-1</td><td>0</td><td>unknown</td><td>no</td></tr>\n",
       "\t<tr><td>⋮</td><td>⋮</td><td>⋮</td><td>⋮</td><td>⋮</td><td>⋮</td><td>⋮</td><td>⋮</td><td>⋮</td><td>⋮</td><td>⋮</td><td>⋮</td><td>⋮</td><td>⋮</td><td>⋮</td><td>⋮</td><td>⋮</td></tr>\n",
       "\t<tr><td>72</td><td>retired     </td><td>married</td><td>secondary</td><td>no</td><td>5715</td><td>no</td><td>no</td><td>cellular </td><td>17</td><td>nov</td><td>1127</td><td>5</td><td>184</td><td> 3</td><td>success</td><td>yes</td></tr>\n",
       "\t<tr><td>57</td><td>blue-collar </td><td>married</td><td>secondary</td><td>no</td><td> 668</td><td>no</td><td>no</td><td>telephone</td><td>17</td><td>nov</td><td> 508</td><td>4</td><td> -1</td><td> 0</td><td>unknown</td><td>no </td></tr>\n",
       "\t<tr><td>37</td><td>entrepreneur</td><td>married</td><td>secondary</td><td>no</td><td>2971</td><td>no</td><td>no</td><td>cellular </td><td>17</td><td>nov</td><td> 361</td><td>2</td><td>188</td><td>11</td><td>other  </td><td>no </td></tr>\n",
       "</tbody>\n",
       "</table>\n"
      ],
      "text/latex": [
       "A spec\\_tbl\\_df: 45211 × 17\n",
       "\\begin{tabular}{lllllllllllllllll}\n",
       " age & job & marital & education & default & balance & housing & loan & contact & day & month & duration & campaign & pdays & previous & poutcome & y\\\\\n",
       " <dbl> & <chr> & <chr> & <chr> & <chr> & <dbl> & <chr> & <chr> & <chr> & <dbl> & <chr> & <dbl> & <dbl> & <dbl> & <dbl> & <chr> & <chr>\\\\\n",
       "\\hline\n",
       "\t 58 & management   & married & tertiary  & no & 2143 & yes & no  & unknown & 5 & may & 261 & 1 & -1 & 0 & unknown & no\\\\\n",
       "\t 44 & technician   & single  & secondary & no &   29 & yes & no  & unknown & 5 & may & 151 & 1 & -1 & 0 & unknown & no\\\\\n",
       "\t 33 & entrepreneur & married & secondary & no &    2 & yes & yes & unknown & 5 & may &  76 & 1 & -1 & 0 & unknown & no\\\\\n",
       "\t ⋮ & ⋮ & ⋮ & ⋮ & ⋮ & ⋮ & ⋮ & ⋮ & ⋮ & ⋮ & ⋮ & ⋮ & ⋮ & ⋮ & ⋮ & ⋮ & ⋮\\\\\n",
       "\t 72 & retired      & married & secondary & no & 5715 & no & no & cellular  & 17 & nov & 1127 & 5 & 184 &  3 & success & yes\\\\\n",
       "\t 57 & blue-collar  & married & secondary & no &  668 & no & no & telephone & 17 & nov &  508 & 4 &  -1 &  0 & unknown & no \\\\\n",
       "\t 37 & entrepreneur & married & secondary & no & 2971 & no & no & cellular  & 17 & nov &  361 & 2 & 188 & 11 & other   & no \\\\\n",
       "\\end{tabular}\n"
      ],
      "text/markdown": [
       "\n",
       "A spec_tbl_df: 45211 × 17\n",
       "\n",
       "| age &lt;dbl&gt; | job &lt;chr&gt; | marital &lt;chr&gt; | education &lt;chr&gt; | default &lt;chr&gt; | balance &lt;dbl&gt; | housing &lt;chr&gt; | loan &lt;chr&gt; | contact &lt;chr&gt; | day &lt;dbl&gt; | month &lt;chr&gt; | duration &lt;dbl&gt; | campaign &lt;dbl&gt; | pdays &lt;dbl&gt; | previous &lt;dbl&gt; | poutcome &lt;chr&gt; | y &lt;chr&gt; |\n",
       "|---|---|---|---|---|---|---|---|---|---|---|---|---|---|---|---|---|\n",
       "| 58 | management   | married | tertiary  | no | 2143 | yes | no  | unknown | 5 | may | 261 | 1 | -1 | 0 | unknown | no |\n",
       "| 44 | technician   | single  | secondary | no |   29 | yes | no  | unknown | 5 | may | 151 | 1 | -1 | 0 | unknown | no |\n",
       "| 33 | entrepreneur | married | secondary | no |    2 | yes | yes | unknown | 5 | may |  76 | 1 | -1 | 0 | unknown | no |\n",
       "| ⋮ | ⋮ | ⋮ | ⋮ | ⋮ | ⋮ | ⋮ | ⋮ | ⋮ | ⋮ | ⋮ | ⋮ | ⋮ | ⋮ | ⋮ | ⋮ | ⋮ |\n",
       "| 72 | retired      | married | secondary | no | 5715 | no | no | cellular  | 17 | nov | 1127 | 5 | 184 |  3 | success | yes |\n",
       "| 57 | blue-collar  | married | secondary | no |  668 | no | no | telephone | 17 | nov |  508 | 4 |  -1 |  0 | unknown | no  |\n",
       "| 37 | entrepreneur | married | secondary | no | 2971 | no | no | cellular  | 17 | nov |  361 | 2 | 188 | 11 | other   | no  |\n",
       "\n"
      ],
      "text/plain": [
       "      age job          marital education default balance housing loan contact  \n",
       "1     58  management   married tertiary  no      2143    yes     no   unknown  \n",
       "2     44  technician   single  secondary no        29    yes     no   unknown  \n",
       "3     33  entrepreneur married secondary no         2    yes     yes  unknown  \n",
       "⋮     ⋮   ⋮            ⋮       ⋮         ⋮       ⋮       ⋮       ⋮    ⋮        \n",
       "45209 72  retired      married secondary no      5715    no      no   cellular \n",
       "45210 57  blue-collar  married secondary no       668    no      no   telephone\n",
       "45211 37  entrepreneur married secondary no      2971    no      no   cellular \n",
       "      day month duration campaign pdays previous poutcome y  \n",
       "1     5   may   261      1        -1    0        unknown  no \n",
       "2     5   may   151      1        -1    0        unknown  no \n",
       "3     5   may    76      1        -1    0        unknown  no \n",
       "⋮     ⋮   ⋮     ⋮        ⋮        ⋮     ⋮        ⋮        ⋮  \n",
       "45209 17  nov   1127     5        184    3       success  yes\n",
       "45210 17  nov    508     4         -1    0       unknown  no \n",
       "45211 17  nov    361     2        188   11       other    no "
      ]
     },
     "metadata": {},
     "output_type": "display_data"
    }
   ],
   "source": [
    "url <- \"https://archive.ics.uci.edu/ml/machine-learning-databases/00222/bank.zip\"\n",
    "\n",
    "download.file(url, \"bank.zip\")\n",
    "unzip(\"bank.zip\")\n",
    "\n",
    "bank_data <- read_delim(\"bank-full.csv\", delim = \";\")\n",
    "bank_data"
   ]
  },
  {
   "cell_type": "markdown",
   "id": "6c21f1c0-49f7-48b2-b1ea-f633ea0d9429",
   "metadata": {},
   "source": [
    "*Table 1: Bank Marketing Dataset from the Web*"
   ]
  },
  {
   "cell_type": "code",
   "execution_count": 17,
   "id": "af4f3205-c2a8-410e-b353-f753a7f2ba88",
   "metadata": {},
   "outputs": [
    {
     "data": {
      "text/html": [
       "<table class=\"dataframe\">\n",
       "<caption>A tibble: 33907 × 17</caption>\n",
       "<thead>\n",
       "\t<tr><th scope=col>age</th><th scope=col>job</th><th scope=col>marital</th><th scope=col>education</th><th scope=col>default</th><th scope=col>balance</th><th scope=col>housing</th><th scope=col>loan</th><th scope=col>contact</th><th scope=col>day</th><th scope=col>month</th><th scope=col>duration</th><th scope=col>campaign</th><th scope=col>pdays</th><th scope=col>previous</th><th scope=col>poutcome</th><th scope=col>term_deposit_success</th></tr>\n",
       "\t<tr><th scope=col>&lt;dbl&gt;</th><th scope=col>&lt;chr&gt;</th><th scope=col>&lt;chr&gt;</th><th scope=col>&lt;chr&gt;</th><th scope=col>&lt;chr&gt;</th><th scope=col>&lt;dbl&gt;</th><th scope=col>&lt;chr&gt;</th><th scope=col>&lt;chr&gt;</th><th scope=col>&lt;chr&gt;</th><th scope=col>&lt;dbl&gt;</th><th scope=col>&lt;chr&gt;</th><th scope=col>&lt;dbl&gt;</th><th scope=col>&lt;dbl&gt;</th><th scope=col>&lt;dbl&gt;</th><th scope=col>&lt;dbl&gt;</th><th scope=col>&lt;chr&gt;</th><th scope=col>&lt;fct&gt;</th></tr>\n",
       "</thead>\n",
       "<tbody>\n",
       "\t<tr><td>44</td><td>technician  </td><td>single </td><td>secondary</td><td>no</td><td>29</td><td>yes</td><td>no </td><td>unknown</td><td>5</td><td>may</td><td>151</td><td>1</td><td>-1</td><td>0</td><td>unknown</td><td>no</td></tr>\n",
       "\t<tr><td>33</td><td>entrepreneur</td><td>married</td><td>secondary</td><td>no</td><td> 2</td><td>yes</td><td>yes</td><td>unknown</td><td>5</td><td>may</td><td> 76</td><td>1</td><td>-1</td><td>0</td><td>unknown</td><td>no</td></tr>\n",
       "\t<tr><td>33</td><td>unknown     </td><td>single </td><td>unknown  </td><td>no</td><td> 1</td><td>no </td><td>no </td><td>unknown</td><td>5</td><td>may</td><td>198</td><td>1</td><td>-1</td><td>0</td><td>unknown</td><td>no</td></tr>\n",
       "\t<tr><td>⋮</td><td>⋮</td><td>⋮</td><td>⋮</td><td>⋮</td><td>⋮</td><td>⋮</td><td>⋮</td><td>⋮</td><td>⋮</td><td>⋮</td><td>⋮</td><td>⋮</td><td>⋮</td><td>⋮</td><td>⋮</td><td>⋮</td></tr>\n",
       "\t<tr><td>25</td><td>technician</td><td>single </td><td>secondary</td><td>no</td><td> 505</td><td>no</td><td>yes</td><td>cellular</td><td>17</td><td>nov</td><td> 386</td><td>2</td><td> -1</td><td>0</td><td>unknown</td><td>yes</td></tr>\n",
       "\t<tr><td>51</td><td>technician</td><td>married</td><td>tertiary </td><td>no</td><td> 825</td><td>no</td><td>no </td><td>cellular</td><td>17</td><td>nov</td><td> 977</td><td>3</td><td> -1</td><td>0</td><td>unknown</td><td>yes</td></tr>\n",
       "\t<tr><td>72</td><td>retired   </td><td>married</td><td>secondary</td><td>no</td><td>5715</td><td>no</td><td>no </td><td>cellular</td><td>17</td><td>nov</td><td>1127</td><td>5</td><td>184</td><td>3</td><td>success</td><td>yes</td></tr>\n",
       "</tbody>\n",
       "</table>\n"
      ],
      "text/latex": [
       "A tibble: 33907 × 17\n",
       "\\begin{tabular}{lllllllllllllllll}\n",
       " age & job & marital & education & default & balance & housing & loan & contact & day & month & duration & campaign & pdays & previous & poutcome & term\\_deposit\\_success\\\\\n",
       " <dbl> & <chr> & <chr> & <chr> & <chr> & <dbl> & <chr> & <chr> & <chr> & <dbl> & <chr> & <dbl> & <dbl> & <dbl> & <dbl> & <chr> & <fct>\\\\\n",
       "\\hline\n",
       "\t 44 & technician   & single  & secondary & no & 29 & yes & no  & unknown & 5 & may & 151 & 1 & -1 & 0 & unknown & no\\\\\n",
       "\t 33 & entrepreneur & married & secondary & no &  2 & yes & yes & unknown & 5 & may &  76 & 1 & -1 & 0 & unknown & no\\\\\n",
       "\t 33 & unknown      & single  & unknown   & no &  1 & no  & no  & unknown & 5 & may & 198 & 1 & -1 & 0 & unknown & no\\\\\n",
       "\t ⋮ & ⋮ & ⋮ & ⋮ & ⋮ & ⋮ & ⋮ & ⋮ & ⋮ & ⋮ & ⋮ & ⋮ & ⋮ & ⋮ & ⋮ & ⋮ & ⋮\\\\\n",
       "\t 25 & technician & single  & secondary & no &  505 & no & yes & cellular & 17 & nov &  386 & 2 &  -1 & 0 & unknown & yes\\\\\n",
       "\t 51 & technician & married & tertiary  & no &  825 & no & no  & cellular & 17 & nov &  977 & 3 &  -1 & 0 & unknown & yes\\\\\n",
       "\t 72 & retired    & married & secondary & no & 5715 & no & no  & cellular & 17 & nov & 1127 & 5 & 184 & 3 & success & yes\\\\\n",
       "\\end{tabular}\n"
      ],
      "text/markdown": [
       "\n",
       "A tibble: 33907 × 17\n",
       "\n",
       "| age &lt;dbl&gt; | job &lt;chr&gt; | marital &lt;chr&gt; | education &lt;chr&gt; | default &lt;chr&gt; | balance &lt;dbl&gt; | housing &lt;chr&gt; | loan &lt;chr&gt; | contact &lt;chr&gt; | day &lt;dbl&gt; | month &lt;chr&gt; | duration &lt;dbl&gt; | campaign &lt;dbl&gt; | pdays &lt;dbl&gt; | previous &lt;dbl&gt; | poutcome &lt;chr&gt; | term_deposit_success &lt;fct&gt; |\n",
       "|---|---|---|---|---|---|---|---|---|---|---|---|---|---|---|---|---|\n",
       "| 44 | technician   | single  | secondary | no | 29 | yes | no  | unknown | 5 | may | 151 | 1 | -1 | 0 | unknown | no |\n",
       "| 33 | entrepreneur | married | secondary | no |  2 | yes | yes | unknown | 5 | may |  76 | 1 | -1 | 0 | unknown | no |\n",
       "| 33 | unknown      | single  | unknown   | no |  1 | no  | no  | unknown | 5 | may | 198 | 1 | -1 | 0 | unknown | no |\n",
       "| ⋮ | ⋮ | ⋮ | ⋮ | ⋮ | ⋮ | ⋮ | ⋮ | ⋮ | ⋮ | ⋮ | ⋮ | ⋮ | ⋮ | ⋮ | ⋮ | ⋮ |\n",
       "| 25 | technician | single  | secondary | no |  505 | no | yes | cellular | 17 | nov |  386 | 2 |  -1 | 0 | unknown | yes |\n",
       "| 51 | technician | married | tertiary  | no |  825 | no | no  | cellular | 17 | nov |  977 | 3 |  -1 | 0 | unknown | yes |\n",
       "| 72 | retired    | married | secondary | no | 5715 | no | no  | cellular | 17 | nov | 1127 | 5 | 184 | 3 | success | yes |\n",
       "\n"
      ],
      "text/plain": [
       "      age job          marital education default balance housing loan contact \n",
       "1     44  technician   single  secondary no      29      yes     no   unknown \n",
       "2     33  entrepreneur married secondary no       2      yes     yes  unknown \n",
       "3     33  unknown      single  unknown   no       1      no      no   unknown \n",
       "⋮     ⋮   ⋮            ⋮       ⋮         ⋮       ⋮       ⋮       ⋮    ⋮       \n",
       "33905 25  technician   single  secondary no       505    no      yes  cellular\n",
       "33906 51  technician   married tertiary  no       825    no      no   cellular\n",
       "33907 72  retired      married secondary no      5715    no      no   cellular\n",
       "      day month duration campaign pdays previous poutcome term_deposit_success\n",
       "1     5   may   151      1        -1    0        unknown  no                  \n",
       "2     5   may    76      1        -1    0        unknown  no                  \n",
       "3     5   may   198      1        -1    0        unknown  no                  \n",
       "⋮     ⋮   ⋮     ⋮        ⋮        ⋮     ⋮        ⋮        ⋮                   \n",
       "33905 17  nov    386     2         -1   0        unknown  yes                 \n",
       "33906 17  nov    977     3         -1   0        unknown  yes                 \n",
       "33907 17  nov   1127     5        184   3        success  yes                 "
      ]
     },
     "metadata": {},
     "output_type": "display_data"
    }
   ],
   "source": [
    "tidy_bank_data <- bank_data |>\n",
    "    rename(term_deposit_success = y) |>\n",
    "    mutate(term_deposit_success = as_factor(outcome))\n",
    "\n",
    "bank_split <- initial_split(tidy_bank_data,\n",
    "                            prop = 0.75,\n",
    "                            strata = term_deposit_success)\n",
    "bank_train <- training(bank_split)\n",
    "bank_test <- testing(bank_split)\n",
    "\n",
    "bank_train"
   ]
  },
  {
   "cell_type": "markdown",
   "id": "09c4b5be-0c87-4454-85c7-e1daa538ed9b",
   "metadata": {},
   "source": [
    "*Table 2: Training Data Set*"
   ]
  },
  {
   "cell_type": "markdown",
   "id": "2a68b4aa-d713-4751-8283-fa76528eaa64",
   "metadata": {},
   "source": [
    "#### Summary Statistics"
   ]
  },
  {
   "cell_type": "code",
   "execution_count": 19,
   "id": "1bbe6db3-56e1-408e-89b1-3b3935902b93",
   "metadata": {},
   "outputs": [
    {
     "data": {
      "text/html": [
       "<table class=\"dataframe\">\n",
       "<caption>A data.frame: 1 × 1</caption>\n",
       "<thead>\n",
       "\t<tr><th scope=col>missing_values</th></tr>\n",
       "\t<tr><th scope=col>&lt;int&gt;</th></tr>\n",
       "</thead>\n",
       "<tbody>\n",
       "\t<tr><td>0</td></tr>\n",
       "</tbody>\n",
       "</table>\n"
      ],
      "text/latex": [
       "A data.frame: 1 × 1\n",
       "\\begin{tabular}{l}\n",
       " missing\\_values\\\\\n",
       " <int>\\\\\n",
       "\\hline\n",
       "\t 0\\\\\n",
       "\\end{tabular}\n"
      ],
      "text/markdown": [
       "\n",
       "A data.frame: 1 × 1\n",
       "\n",
       "| missing_values &lt;int&gt; |\n",
       "|---|\n",
       "| 0 |\n",
       "\n"
      ],
      "text/plain": [
       "  missing_values\n",
       "1 0             "
      ]
     },
     "metadata": {},
     "output_type": "display_data"
    }
   ],
   "source": [
    "missing_values <- data.frame(missing_values = sum(is.na(bank_train)))\n",
    "missing_values"
   ]
  },
  {
   "cell_type": "markdown",
   "id": "53e0f3fc-ac67-491f-a533-7f5094edcde2",
   "metadata": {},
   "source": [
    "*Table 3: Summary Table on Missing Values in the Data Set*"
   ]
  },
  {
   "cell_type": "code",
   "execution_count": 21,
   "id": "475981fa-9ff1-4fc4-9339-81dfb91644c3",
   "metadata": {},
   "outputs": [
    {
     "data": {
      "text/html": [
       "<table class=\"dataframe\">\n",
       "<caption>A tibble: 2 × 3</caption>\n",
       "<thead>\n",
       "\t<tr><th scope=col>term_deposit_success</th><th scope=col>Count</th><th scope=col>Percentage</th></tr>\n",
       "\t<tr><th scope=col>&lt;fct&gt;</th><th scope=col>&lt;int&gt;</th><th scope=col>&lt;dbl&gt;</th></tr>\n",
       "</thead>\n",
       "<tbody>\n",
       "\t<tr><td>no </td><td>29941</td><td>88.3033</td></tr>\n",
       "\t<tr><td>yes</td><td> 3966</td><td>11.6967</td></tr>\n",
       "</tbody>\n",
       "</table>\n"
      ],
      "text/latex": [
       "A tibble: 2 × 3\n",
       "\\begin{tabular}{lll}\n",
       " term\\_deposit\\_success & Count & Percentage\\\\\n",
       " <fct> & <int> & <dbl>\\\\\n",
       "\\hline\n",
       "\t no  & 29941 & 88.3033\\\\\n",
       "\t yes &  3966 & 11.6967\\\\\n",
       "\\end{tabular}\n"
      ],
      "text/markdown": [
       "\n",
       "A tibble: 2 × 3\n",
       "\n",
       "| term_deposit_success &lt;fct&gt; | Count &lt;int&gt; | Percentage &lt;dbl&gt; |\n",
       "|---|---|---|\n",
       "| no  | 29941 | 88.3033 |\n",
       "| yes |  3966 | 11.6967 |\n",
       "\n"
      ],
      "text/plain": [
       "  term_deposit_success Count Percentage\n",
       "1 no                   29941 88.3033   \n",
       "2 yes                   3966 11.6967   "
      ]
     },
     "metadata": {},
     "output_type": "display_data"
    }
   ],
   "source": [
    "number_obs <- nrow(bank_train)\n",
    "            bank_train |>\n",
    "            group_by(term_deposit_success) |>\n",
    "            summarize(Count = n(), Percentage = n() / number_obs * 100)"
   ]
  },
  {
   "cell_type": "markdown",
   "id": "4bcf7a73-3017-4ff7-b71a-53bc82099d30",
   "metadata": {},
   "source": [
    "*Table 4: Summary Table on Variable Distribution*"
   ]
  },
  {
   "cell_type": "code",
   "execution_count": 25,
   "id": "6b333530-61c1-4685-95d2-c7cdb821986e",
   "metadata": {},
   "outputs": [
    {
     "data": {
      "image/png": "[encoded data removed]",
      "text/plain": [
       "plot without title"
      ]
     },
     "metadata": {
      "image/png": {
       "height": 420,
       "width": 420
      }
     },
     "output_type": "display_data"
    }
   ],
   "source": [
    "distribution_plot <- ggplot(bank_train, aes(x = term_deposit_success, fill = term_deposit_success)) +\n",
    "            geom_bar(stat = \"Count\") +\n",
    "            labs(x = \"Term Deposit Success\", y = \"Count\", fill = \"Marketing Success\") +\n",
    "            theme(text = element_text(size = 12))                 \n",
    "distribution_plot"
   ]
  },
  {
   "cell_type": "markdown",
   "id": "c3900e1f-f766-4534-9a78-d2338f861b83",
   "metadata": {},
   "source": [
    "*Figure 1: Distribution of Marketing Success*"
   ]
  },
  {
   "cell_type": "markdown",
   "id": "84ab6c96-06cf-4c9d-ac4d-3cc316cc6ec2",
   "metadata": {},
   "source": [
    "### References\n",
    "\n",
    "[Moro et al., 2014] S. Moro, P. Cortez and P. Rita. A Data-Driven Approach to Predict the Success of Bank Telemarketing. Decision Support Systems, Elsevier, 62:22-31, June 2014."
   ]
  }
 ],
 "metadata": {
  "kernelspec": {
   "display_name": "R",
   "language": "R",
   "name": "ir"
  },
  "language_info": {
   "codemirror_mode": "r",
   "file_extension": ".r",
   "mimetype": "text/x-r-source",
   "name": "R",
   "pygments_lexer": "r",
   "version": "4.1.3"
  }
 },
 "nbformat": 4,
 "nbformat_minor": 5
}
